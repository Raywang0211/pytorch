{
 "cells": [
  {
   "cell_type": "code",
   "execution_count": null,
   "metadata": {},
   "outputs": [],
   "source": [
    "!wget https://github.com/DeepStudio-TW/torch-dataloader-tutorial/raw/main/data.csv"
   ]
  },
  {
   "cell_type": "code",
   "execution_count": 1,
   "metadata": {},
   "outputs": [],
   "source": [
    "import torch\n",
    "import time\n",
    "import pandas as pd\n",
    "import torch.utils.data as tud\n",
    "import numpy as np"
   ]
  },
  {
   "cell_type": "code",
   "execution_count": 2,
   "metadata": {},
   "outputs": [],
   "source": [
    "class NumDataset(tud.Dataset):\n",
    "    '''Init: 使用變數宣告- data來源、總量、preprocess方法...等等'''\n",
    "    def __init__(self,fname,number_length):\n",
    "        super().__init__()\n",
    "        self.df=pd.read_csv(fname).head(number_length)\n",
    "        self.number_length=number_length\n",
    "        \n",
    "        self.data=self.df.data.values\n",
    "        self.label=self.df.label.values\n",
    "    '''一定要宣告長度，自訂義'''\n",
    "    def __len__(self):\n",
    "        return self.number_length\n",
    "    '''定義回傳一筆資料的方式，input會是某個index, 輸出data, 以及label'''\n",
    "    def __getitem__(self, idx):\n",
    "        data=self.data[idx]\n",
    "        label=self.label[idx]\n",
    "        return data,label"
   ]
  },
  {
   "cell_type": "markdown",
   "metadata": {},
   "source": [
    "* tud.Dataloader可以進行多種設定\n",
    "\n",
    "1. batch_size : 可以自行設置讀取時的batch_size\n",
    "2. shuffel：可以自行設置是否要進行自動shuffle\n",
    "3. sampler：可以自行設計shuffel的方法，這邊可以延伸到各種不同種的sampler\n",
    "4. num_workers：設定dataloder執行時要使用己的執行緒進行\n",
    "5. persistent_workers：加速讀取的設定\n",
    "6. prefetch_factor：加速讀取的設定\n",
    "7. pin_memory：加速讀取的設定\n",
    "7. \n",
    "\n",
    "如果資料集沒有很大但是多加了很多加速的技巧反而會有減慢讀取的效果"
   ]
  },
  {
   "cell_type": "code",
   "execution_count": 8,
   "metadata": {},
   "outputs": [
    {
     "name": "stdout",
     "output_type": "stream",
     "text": [
      "stenp =  0.2954139709472656\n"
     ]
    }
   ],
   "source": [
    "dataset = NumDataset(\"/code/data.csv\",5005)\n",
    "loader = tud.DataLoader(dataset,batch_size=10,shuffle=True,pin_memory=False,prefetch_factor=1,num_workers=2,persistent_workers=True)\n",
    "\n",
    "st = time.time()\n",
    "for d,l in loader:\n",
    "    d=d.cuda()\n",
    "    l=l.cuda()\n",
    "    pass\n",
    "\n",
    "print(\"stenp = \",time.time()-st)"
   ]
  },
  {
   "cell_type": "code",
   "execution_count": 9,
   "metadata": {},
   "outputs": [
    {
     "name": "stdout",
     "output_type": "stream",
     "text": [
      "stenp =  0.03711223602294922\n"
     ]
    }
   ],
   "source": [
    "dataset = NumDataset(\"/code/data.csv\",5005)\n",
    "loader = tud.DataLoader(dataset,batch_size=10,shuffle=True)\n",
    "\n",
    "st = time.time()\n",
    "for d,l in loader:\n",
    "    d=d.cuda()\n",
    "    l=l.cuda()\n",
    "    pass\n",
    "\n",
    "print(\"stenp = \",time.time()-st)"
   ]
  },
  {
   "cell_type": "code",
   "execution_count": null,
   "metadata": {},
   "outputs": [],
   "source": []
  }
 ],
 "metadata": {
  "kernelspec": {
   "display_name": "Python 3.8.5 ('base')",
   "language": "python",
   "name": "python3"
  },
  "language_info": {
   "codemirror_mode": {
    "name": "ipython",
    "version": 3
   },
   "file_extension": ".py",
   "mimetype": "text/x-python",
   "name": "python",
   "nbconvert_exporter": "python",
   "pygments_lexer": "ipython3",
   "version": "3.8.5"
  },
  "orig_nbformat": 4,
  "vscode": {
   "interpreter": {
    "hash": "d4d1e4263499bec80672ea0156c357c1ee493ec2b1c70f0acce89fc37c4a6abe"
   }
  }
 },
 "nbformat": 4,
 "nbformat_minor": 2
}
