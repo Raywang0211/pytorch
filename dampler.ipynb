{
 "cells": [
  {
   "cell_type": "code",
   "execution_count": null,
   "metadata": {},
   "outputs": [],
   "source": [
    "!wget https://github.com/DeepStudio-TW/torch-dataloader-tutorial/raw/main/data.csv"
   ]
  },
  {
   "cell_type": "code",
   "execution_count": 82,
   "metadata": {},
   "outputs": [],
   "source": [
    "import torch\n",
    "import time\n",
    "import pandas as pd\n",
    "import torch.utils.data as tud\n",
    "import numpy as np\n",
    "import matplotlib.pyplot as plt"
   ]
  },
  {
   "cell_type": "code",
   "execution_count": 83,
   "metadata": {},
   "outputs": [],
   "source": [
    "class NumDataset(tud.Dataset):\n",
    "    '''Init: 使用變數宣告- data來源、總量、preprocess方法...等等'''\n",
    "    def __init__(self,fname,number_length):\n",
    "        super().__init__()\n",
    "        self.df=pd.read_csv(fname).head(number_length)\n",
    "        self.number_length=number_length\n",
    "        \n",
    "        self.data=self.df.data.values\n",
    "        self.label=self.df.label.values\n",
    "    '''一定要宣告長度，自訂義'''\n",
    "    def __len__(self):\n",
    "        return self.number_length\n",
    "    '''定義回傳一筆資料的方式，input會是某個index, 輸出data, 以及label'''\n",
    "    def __getitem__(self, idx):\n",
    "        data=self.data[idx]\n",
    "        label=self.label[idx]\n",
    "        return data,label"
   ]
  },
  {
   "cell_type": "markdown",
   "metadata": {},
   "source": [
    "多種sampler方法\n",
    "\n",
    "1. SequentialSampler：按照順序的取資料\n",
    "2. RandomSampler：按照指定的隨機方法進行取資料\n",
    "3. WeightedRandomSampler：可以設定資料出現的比率進行取資料\n",
    "\n",
    "RrandomSampler可以搭配Generator()固定隨機的參數，讓隨機的狀況每次都一樣。\n",
    "\n",
    "sampler需要搭配dataloader進行使用"
   ]
  },
  {
   "cell_type": "code",
   "execution_count": 84,
   "metadata": {},
   "outputs": [],
   "source": [
    "dataset = NumDataset(\"/code/data.csv\",5)\n",
    "seq_sampler = tud.SequentialSampler(dataset)"
   ]
  },
  {
   "cell_type": "code",
   "execution_count": 87,
   "metadata": {},
   "outputs": [
    {
     "name": "stdout",
     "output_type": "stream",
     "text": [
      "d type =  <class 'torch.Tensor'> d =  tensor([0.3315], dtype=torch.float64)  || l type =  <class 'torch.Tensor'> l =  tensor([0])\n",
      "d type =  <class 'torch.Tensor'> d =  tensor([0.2033], dtype=torch.float64)  || l type =  <class 'torch.Tensor'> l =  tensor([1])\n",
      "d type =  <class 'torch.Tensor'> d =  tensor([-1.5153], dtype=torch.float64)  || l type =  <class 'torch.Tensor'> l =  tensor([2])\n",
      "d type =  <class 'torch.Tensor'> d =  tensor([-0.9327], dtype=torch.float64)  || l type =  <class 'torch.Tensor'> l =  tensor([3])\n",
      "d type =  <class 'torch.Tensor'> d =  tensor([-0.7553], dtype=torch.float64)  || l type =  <class 'torch.Tensor'> l =  tensor([4])\n"
     ]
    }
   ],
   "source": [
    "dataloader=tud.DataLoader(dataset,sampler=seq_sampler)\n",
    "for d,l in dataloader:\n",
    "    print(\"d type = \",type(d),\"d = \",d,\" || l type = \",type(l),\"l = \",l)"
   ]
  },
  {
   "cell_type": "code",
   "execution_count": 114,
   "metadata": {},
   "outputs": [
    {
     "name": "stdout",
     "output_type": "stream",
     "text": [
      "d =  tensor([-1.5153], dtype=torch.float64)  i =  tensor([2])\n",
      "d =  tensor([0.2033], dtype=torch.float64)  i =  tensor([1])\n",
      "d =  tensor([0.2033], dtype=torch.float64)  i =  tensor([1])\n",
      "d =  tensor([-0.9327], dtype=torch.float64)  i =  tensor([3])\n",
      "d =  tensor([-0.7553], dtype=torch.float64)  i =  tensor([4])\n"
     ]
    }
   ],
   "source": [
    "rnd_gen = torch.Generator().manual_seed(45)\n",
    "rad_sampler = tud.RandomSampler(dataset,replacement=True,num_samples=5, generator=rnd_gen)\n",
    "dataloader_rad=tud.DataLoader(dataset,sampler=rad_sampler)\n",
    "for d,l in dataloader_rad:\n",
    "    print(\"d = \",d, \" i = \",l)"
   ]
  },
  {
   "cell_type": "code",
   "execution_count": 123,
   "metadata": {},
   "outputs": [],
   "source": [
    "wet_gen = tud.WeightedRandomSampler(weights=[1,2,1,5,2],num_samples=10)\n",
    "dataloader_rad=tud.DataLoader(dataset,sampler=wet_gen)\n"
   ]
  },
  {
   "cell_type": "code",
   "execution_count": 124,
   "metadata": {},
   "outputs": [
    {
     "name": "stdout",
     "output_type": "stream",
     "text": [
      "d type =  <class 'torch.Tensor'> d =  tensor([0.2033], dtype=torch.float64)  || l type =  <class 'torch.Tensor'> l =  tensor([1])\n",
      "d type =  <class 'torch.Tensor'> d =  tensor([-0.9327], dtype=torch.float64)  || l type =  <class 'torch.Tensor'> l =  tensor([3])\n",
      "d type =  <class 'torch.Tensor'> d =  tensor([-0.7553], dtype=torch.float64)  || l type =  <class 'torch.Tensor'> l =  tensor([4])\n",
      "d type =  <class 'torch.Tensor'> d =  tensor([0.3315], dtype=torch.float64)  || l type =  <class 'torch.Tensor'> l =  tensor([0])\n",
      "d type =  <class 'torch.Tensor'> d =  tensor([0.2033], dtype=torch.float64)  || l type =  <class 'torch.Tensor'> l =  tensor([1])\n",
      "d type =  <class 'torch.Tensor'> d =  tensor([-0.9327], dtype=torch.float64)  || l type =  <class 'torch.Tensor'> l =  tensor([3])\n",
      "d type =  <class 'torch.Tensor'> d =  tensor([0.2033], dtype=torch.float64)  || l type =  <class 'torch.Tensor'> l =  tensor([1])\n",
      "d type =  <class 'torch.Tensor'> d =  tensor([-0.7553], dtype=torch.float64)  || l type =  <class 'torch.Tensor'> l =  tensor([4])\n",
      "d type =  <class 'torch.Tensor'> d =  tensor([-0.9327], dtype=torch.float64)  || l type =  <class 'torch.Tensor'> l =  tensor([3])\n",
      "d type =  <class 'torch.Tensor'> d =  tensor([-0.7553], dtype=torch.float64)  || l type =  <class 'torch.Tensor'> l =  tensor([4])\n"
     ]
    }
   ],
   "source": [
    "\n",
    "for d,l in dataloader_rad:\n",
    "    print(\"d type = \",type(d),\"d = \",d,\" || l type = \",type(l),\"l = \",l)"
   ]
  },
  {
   "cell_type": "code",
   "execution_count": null,
   "metadata": {},
   "outputs": [],
   "source": []
  }
 ],
 "metadata": {
  "kernelspec": {
   "display_name": "Python 2.7.17 64-bit",
   "language": "python",
   "name": "python3"
  },
  "language_info": {
   "codemirror_mode": {
    "name": "ipython",
    "version": 3
   },
   "file_extension": ".py",
   "mimetype": "text/x-python",
   "name": "python",
   "nbconvert_exporter": "python",
   "pygments_lexer": "ipython3",
   "version": "2.7.17"
  },
  "orig_nbformat": 4,
  "vscode": {
   "interpreter": {
    "hash": "767d51c1340bd893661ea55ea3124f6de3c7a262a8b4abca0554b478b1e2ff90"
   }
  }
 },
 "nbformat": 4,
 "nbformat_minor": 2
}
