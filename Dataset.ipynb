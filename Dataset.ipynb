{
 "cells": [
  {
   "cell_type": "code",
   "execution_count": 5,
   "metadata": {},
   "outputs": [
    {
     "name": "stdout",
     "output_type": "stream",
     "text": [
      "--2022-11-30 08:18:17--  https://github.com/DeepStudio-TW/torch-dataloader-tutorial/raw/main/data.csv\n",
      "Resolving github.com (github.com)... 20.27.177.113\n",
      "Connecting to github.com (github.com)|20.27.177.113|:443... connected.\n",
      "HTTP request sent, awaiting response... 302 Found\n",
      "Location: https://raw.githubusercontent.com/DeepStudio-TW/torch-dataloader-tutorial/main/data.csv [following]\n",
      "--2022-11-30 08:18:17--  https://raw.githubusercontent.com/DeepStudio-TW/torch-dataloader-tutorial/main/data.csv\n",
      "Resolving raw.githubusercontent.com (raw.githubusercontent.com)... 185.199.108.133, 185.199.110.133, 185.199.109.133, ...\n",
      "Connecting to raw.githubusercontent.com (raw.githubusercontent.com)|185.199.108.133|:443... connected.\n",
      "HTTP request sent, awaiting response... 200 OK\n",
      "Length: 13203465 (13M) [text/plain]\n",
      "Saving to: ‘data.csv’\n",
      "\n",
      "data.csv            100%[===================>]  12.59M  27.2MB/s    in 0.5s    \n",
      "\n",
      "2022-11-30 08:18:19 (27.2 MB/s) - ‘data.csv’ saved [13203465/13203465]\n",
      "\n"
     ]
    }
   ],
   "source": [
    "!wget https://github.com/DeepStudio-TW/torch-dataloader-tutorial/raw/main/data.csv"
   ]
  },
  {
   "cell_type": "code",
   "execution_count": 12,
   "metadata": {},
   "outputs": [],
   "source": [
    "import torch\n",
    "import time\n",
    "import pandas as pd\n",
    "import torch.utils.data as tud\n",
    "import numpy as np"
   ]
  },
  {
   "cell_type": "markdown",
   "metadata": {},
   "source": [
    "* 一般的torch.utils.data 的 dataset，主要用來將資料進行載入，裡面一定要設置len() 跟 getitem()這兩個方法\n",
    "1. len() 讓方法知道整個dataset的長度\n",
    "2. getitem() 讓方法知道如何回傳數值"
   ]
  },
  {
   "cell_type": "code",
   "execution_count": 13,
   "metadata": {},
   "outputs": [],
   "source": [
    "class NumDataset(tud.Dataset):\n",
    "    '''Init: 使用變數宣告- data來源、總量、preprocess方法...等等'''\n",
    "    def __init__(self,fname,number_length):\n",
    "        super().__init__()\n",
    "        self.df=pd.read_csv(fname).head(number_length)\n",
    "        self.number_length=number_length\n",
    "        \n",
    "        self.data=self.df.data.values\n",
    "        self.label=self.df.label.values\n",
    "    '''一定要宣告長度，自訂義'''\n",
    "    def __len__(self):\n",
    "        return self.number_length\n",
    "    '''定義回傳一筆資料的方式，input會是某個index, 輸出data, 以及label'''\n",
    "    def __getitem__(self, idx):\n",
    "        data=self.data[idx]\n",
    "        label=self.label[idx]\n",
    "        return data,label"
   ]
  },
  {
   "cell_type": "code",
   "execution_count": 15,
   "metadata": {},
   "outputs": [
    {
     "name": "stdout",
     "output_type": "stream",
     "text": [
      "d =  <class 'numpy.float64'>\n",
      "l =  0\n",
      "d =  <class 'numpy.float64'>\n",
      "l =  1\n",
      "d =  <class 'numpy.float64'>\n",
      "l =  2\n",
      "d =  <class 'numpy.float64'>\n",
      "l =  3\n",
      "d =  <class 'numpy.float64'>\n",
      "l =  4\n"
     ]
    }
   ],
   "source": [
    "dataset=NumDataset(\"/code/data.csv\",5)\n",
    "\n",
    "for d,l in dataset:\n",
    "    print(\"d = \",type(d))\n",
    "    print(\"l = \",l)"
   ]
  },
  {
   "cell_type": "code",
   "execution_count": 4,
   "metadata": {},
   "outputs": [],
   "source": [
    "L = len(dataset)\n",
    "seta,setb,setc= tud.dataset.random_split(dataset,[3,1,1])"
   ]
  },
  {
   "cell_type": "markdown",
   "metadata": {},
   "source": [
    "* 透過tud.dataset.random_split()可以將輸入的dataset拆分成指定的數量，並且按照指定的數量進行拆分"
   ]
  },
  {
   "cell_type": "code",
   "execution_count": 5,
   "metadata": {},
   "outputs": [
    {
     "name": "stdout",
     "output_type": "stream",
     "text": [
      "seta ========\n",
      "<class 'numpy.float64'> d =  -0.9327277456926928\n",
      "<class 'numpy.int64'> l =  3\n",
      "<class 'numpy.float64'> d =  0.3314613320867217\n",
      "<class 'numpy.int64'> l =  0\n",
      "<class 'numpy.float64'> d =  -1.515299754708565\n",
      "<class 'numpy.int64'> l =  2\n",
      "setb ========\n",
      "<class 'numpy.float64'> d =  -0.7552733088729586\n",
      "<class 'numpy.int64'> l =  4\n",
      "setc ========\n",
      "<class 'numpy.float64'> d =  0.2032911268458796\n",
      "<class 'numpy.int64'> l =  1\n"
     ]
    }
   ],
   "source": [
    "print(\"seta ========\")\n",
    "for d,l in seta:\n",
    "\n",
    "    print(type(d),\"d = \",d)\n",
    "    print(type(l),\"l = \",l)\n",
    "\n",
    "for d,l in setb:\n",
    "    print(\"setb ========\")\n",
    "    print(type(d),\"d = \",d)\n",
    "    print(type(l),\"l = \",l)\n",
    "\n",
    "for d,l in setc:\n",
    "    print(\"setc ========\")\n",
    "    print(type(d),\"d = \",d)\n",
    "    print(type(l),\"l = \",l)"
   ]
  },
  {
   "cell_type": "markdown",
   "metadata": {},
   "source": [
    "* 透過tud.dataset,ConcatDataset()可以將兩個dataset進行連接，也可以直接透過 ”+” 達到一樣的效果，"
   ]
  },
  {
   "cell_type": "code",
   "execution_count": 6,
   "metadata": {},
   "outputs": [
    {
     "name": "stdout",
     "output_type": "stream",
     "text": [
      "<class 'numpy.float64'> d =  -0.7552733088729586\n",
      "<class 'numpy.int64'> l =  4\n",
      "<class 'numpy.float64'> d =  0.2032911268458796\n",
      "<class 'numpy.int64'> l =  1\n"
     ]
    }
   ],
   "source": [
    "testdata = tud.dataset.ConcatDataset((setb,setc))\n",
    "len(testdata)\n",
    "for d,l in testdata:\n",
    "    print(type(d),\"d = \",d)\n",
    "    print(type(l),\"l = \",l)"
   ]
  },
  {
   "cell_type": "markdown",
   "metadata": {},
   "source": [
    "* 透過tud.dataset,ConcatDataset()可以將兩個dataset進行連接，也可以直接透過 ”+” 達到一樣的效果，"
   ]
  },
  {
   "cell_type": "code",
   "execution_count": 7,
   "metadata": {},
   "outputs": [
    {
     "name": "stdout",
     "output_type": "stream",
     "text": [
      "<class 'numpy.float64'> d =  -0.7552733088729586\n",
      "<class 'numpy.int64'> l =  4\n",
      "<class 'numpy.float64'> d =  -0.7552733088729586\n",
      "<class 'numpy.int64'> l =  4\n",
      "<class 'numpy.float64'> d =  0.2032911268458796\n",
      "<class 'numpy.int64'> l =  1\n"
     ]
    }
   ],
   "source": [
    "testdata = setb+testdata\n",
    "len(testdata)\n",
    "for d,l in testdata:\n",
    "    print(type(d),\"d = \",d)\n",
    "    print(type(l),\"l = \",l)"
   ]
  },
  {
   "cell_type": "code",
   "execution_count": 8,
   "metadata": {},
   "outputs": [],
   "source": [
    "class NumIterDataset(tud.IterableDataset):\n",
    "    '''Init: 使用變數宣告- data來源、總量、preprocess方法...等等'''\n",
    "    def __init__(self,fname,number_length):\n",
    "        super(NumIterDataset).__init__()\n",
    "        self.fname=fname\n",
    "        self.number_length=number_length\n",
    "    '''長度不宣告也沒差還是可以跑，有時候可以是無窮迴圈dataset'''\n",
    "#     def __len__(self):\n",
    "#         return self.number_length\n",
    "    '''定義iteration的方式，反正此dataset被call到之後開始跑iteration'''\n",
    "    def __iter__(self):\n",
    "        file_itr = open(self.fname)\n",
    "        _=next(file_itr)\n",
    "        for idx,line in enumerate(file_itr):\n",
    "            if idx<self.number_length:\n",
    "                d,l=line.split(\",\")\n",
    "                yield float(d),int(l)\n",
    "            else:\n",
    "                break\n"
   ]
  },
  {
   "cell_type": "code",
   "execution_count": 11,
   "metadata": {},
   "outputs": [
    {
     "name": "stdout",
     "output_type": "stream",
     "text": [
      "d =  0.3314613320867217\n",
      "l =  0\n",
      "d =  0.20329112684587966\n",
      "l =  1\n",
      "d =  -1.515299754708565\n",
      "l =  2\n",
      "d =  -0.9327277456926928\n",
      "l =  3\n",
      "d =  -0.7552733088729586\n",
      "l =  4\n",
      "d =  -0.12054968098895107\n",
      "l =  5\n"
     ]
    }
   ],
   "source": [
    "iter_dataset=NumIterDataset(\"/code/data.csv\",6)\n",
    "for d,l in iter_dataset:\n",
    "    print(\"d = \",d)\n",
    "    print(\"l = \",l)"
   ]
  },
  {
   "cell_type": "code",
   "execution_count": null,
   "metadata": {},
   "outputs": [],
   "source": []
  }
 ],
 "metadata": {
  "kernelspec": {
   "display_name": "Python 3.8.5 ('base')",
   "language": "python",
   "name": "python3"
  },
  "language_info": {
   "codemirror_mode": {
    "name": "ipython",
    "version": 3
   },
   "file_extension": ".py",
   "mimetype": "text/x-python",
   "name": "python",
   "nbconvert_exporter": "python",
   "pygments_lexer": "ipython3",
   "version": "3.8.5"
  },
  "orig_nbformat": 4,
  "vscode": {
   "interpreter": {
    "hash": "d4d1e4263499bec80672ea0156c357c1ee493ec2b1c70f0acce89fc37c4a6abe"
   }
  }
 },
 "nbformat": 4,
 "nbformat_minor": 2
}
