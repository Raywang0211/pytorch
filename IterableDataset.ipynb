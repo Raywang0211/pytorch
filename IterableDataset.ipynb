{
 "cells": [
  {
   "cell_type": "code",
   "execution_count": null,
   "metadata": {},
   "outputs": [],
   "source": [
    "!wget https://github.com/DeepStudio-TW/torch-dataloader-tutorial/raw/main/data.csv"
   ]
  },
  {
   "cell_type": "code",
   "execution_count": 1,
   "metadata": {},
   "outputs": [],
   "source": [
    "import torch\n",
    "import time\n",
    "import pandas as pd\n",
    "import torch.utils.data as tud\n",
    "import numpy as np"
   ]
  },
  {
   "cell_type": "markdown",
   "metadata": {},
   "source": [
    "* Iterabeldataset跟dataset有一些不同，主要是iterabledataset的運作上會對於記憶體比較友善，但是缺點是他沒辦法透過tud.dataloader進行shuffle"
   ]
  },
  {
   "cell_type": "code",
   "execution_count": 2,
   "metadata": {},
   "outputs": [],
   "source": [
    "class NumIterDataset(tud.IterableDataset):\n",
    "    '''Init: 使用變數宣告- data來源、總量、preprocess方法...等等'''\n",
    "    def __init__(self,fname,number_length):\n",
    "        super(NumIterDataset).__init__()\n",
    "        self.fname=fname\n",
    "        self.number_length=number_length\n",
    "    '''長度不宣告也沒差還是可以跑，有時候可以是無窮迴圈dataset'''\n",
    "#     def __len__(self):\n",
    "#         return self.number_length\n",
    "    '''定義iteration的方式，反正此dataset被call到之後開始跑iteration'''\n",
    "    def __iter__(self):\n",
    "        file_itr = open(self.fname)\n",
    "        _=next(file_itr)\n",
    "        for idx,line in enumerate(file_itr):\n",
    "            if idx<self.number_length:\n",
    "                d,l=line.split(\",\")\n",
    "                yield float(d),int(l)\n",
    "            else:\n",
    "                break\n"
   ]
  },
  {
   "cell_type": "code",
   "execution_count": 3,
   "metadata": {},
   "outputs": [
    {
     "name": "stdout",
     "output_type": "stream",
     "text": [
      "d =  0.3314613320867217\n",
      "l =  0\n",
      "d =  0.20329112684587966\n",
      "l =  1\n",
      "d =  -1.515299754708565\n",
      "l =  2\n",
      "d =  -0.9327277456926928\n",
      "l =  3\n",
      "d =  -0.7552733088729586\n",
      "l =  4\n",
      "d =  -0.12054968098895107\n",
      "l =  5\n"
     ]
    }
   ],
   "source": [
    "iter_dataset=NumIterDataset(\"/code/data.csv\",6)\n",
    "for d,l in iter_dataset:\n",
    "    print(\"d = \",d)\n",
    "    print(\"l = \",l)"
   ]
  },
  {
   "cell_type": "markdown",
   "metadata": {},
   "source": [
    "* 透過tud.dataloader將輸入的np.array轉換成torch.tensor，也可以丟到cuda上面進行運算"
   ]
  },
  {
   "cell_type": "code",
   "execution_count": 5,
   "metadata": {},
   "outputs": [
    {
     "name": "stdout",
     "output_type": "stream",
     "text": [
      "d_type =  <class 'torch.Tensor'> |||| l_type =  <class 'torch.Tensor'>\n",
      "\n",
      "d_type =  <class 'torch.Tensor'> |||| l_type =  <class 'torch.Tensor'>\n",
      "\n",
      "d_type =  <class 'torch.Tensor'> |||| l_type =  <class 'torch.Tensor'>\n",
      "\n",
      "d_type =  <class 'torch.Tensor'> |||| l_type =  <class 'torch.Tensor'>\n",
      "\n",
      "d_type =  <class 'torch.Tensor'> |||| l_type =  <class 'torch.Tensor'>\n",
      "\n",
      "d_type =  <class 'torch.Tensor'> |||| l_type =  <class 'torch.Tensor'>\n",
      "\n",
      "stenp =  0.0028378963470458984\n"
     ]
    }
   ],
   "source": [
    "loader = tud.DataLoader(iter_dataset,batch_size=1)\n",
    "\n",
    "st = time.time()\n",
    "for d,l in loader:\n",
    "    d=d.cuda()\n",
    "    l=l.cuda()\n",
    "    print(\"d_type = \",type(d),\"|||| l_type = \",type(l))\n",
    "    print()\n",
    "    pass\n",
    "\n",
    "print(\"stenp = \",time.time()-st)"
   ]
  },
  {
   "cell_type": "code",
   "execution_count": null,
   "metadata": {},
   "outputs": [],
   "source": []
  }
 ],
 "metadata": {
  "kernelspec": {
   "display_name": "Python 3.8.5 ('base')",
   "language": "python",
   "name": "python3"
  },
  "language_info": {
   "codemirror_mode": {
    "name": "ipython",
    "version": 3
   },
   "file_extension": ".py",
   "mimetype": "text/x-python",
   "name": "python",
   "nbconvert_exporter": "python",
   "pygments_lexer": "ipython3",
   "version": "3.8.5"
  },
  "orig_nbformat": 4,
  "vscode": {
   "interpreter": {
    "hash": "d4d1e4263499bec80672ea0156c357c1ee493ec2b1c70f0acce89fc37c4a6abe"
   }
  }
 },
 "nbformat": 4,
 "nbformat_minor": 2
}
